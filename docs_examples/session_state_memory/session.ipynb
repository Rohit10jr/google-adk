{
 "cells": [
  {
   "cell_type": "code",
   "execution_count": 1,
   "id": "75d3b9ec",
   "metadata": {},
   "outputs": [
    {
     "name": "stdout",
     "output_type": "stream",
     "text": [
      "f:\\01 TASKS\\01settyle\\google-adk\\venv\\Scripts\\python311.exe\n"
     ]
    }
   ],
   "source": [
    "import sys \n",
    "print(sys.executable)"
   ]
  },
  {
   "cell_type": "code",
   "execution_count": 1,
   "id": "a51afdf0",
   "metadata": {},
   "outputs": [
    {
     "name": "stdout",
     "output_type": "stream",
     "text": [
      "--- Examining Session Properties ---\n",
      "ID (`id`):                caeddf6e-1920-4305-af03-fa9aec43c52a\n",
      "Application Name (`app_name`): my_app\n",
      "User ID (`user_id`):         example_user\n",
      "State (`state`):           {'initial_key': 'initial_value'}\n",
      "Events (`events`):         []\n",
      "Last Update (`last_update_time`): 1750228442.86\n",
      "---------------------------------\n",
      "The final status of temp_service -  None\n"
     ]
    }
   ],
   "source": [
    "from google.adk.sessions import InMemorySessionService, Session\n",
    "\n",
    "# Create a simple session to examine its properties\n",
    "temp_service = InMemorySessionService()\n",
    "example_session = await temp_service.create_session(\n",
    "    app_name=\"my_app\",\n",
    "    user_id=\"example_user\",\n",
    "    state={\"initial_key\": \"initial_value\"} # State can be initialized\n",
    ")\n",
    "\n",
    "print(f\"--- Examining Session Properties ---\")\n",
    "print(f\"ID (`id`):                {example_session.id}\")\n",
    "print(f\"Application Name (`app_name`): {example_session.app_name}\")\n",
    "print(f\"User ID (`user_id`):         {example_session.user_id}\")\n",
    "print(f\"State (`state`):           {example_session.state}\") # Note: Only shows initial state here\n",
    "print(f\"Events (`events`):         {example_session.events}\") # Initially empty\n",
    "print(f\"Last Update (`last_update_time`): {example_session.last_update_time:.2f}\")\n",
    "print(f\"---------------------------------\")\n",
    "\n",
    "# Clean up (optional for this example)\n",
    "temp_service = await temp_service.delete_session(app_name=example_session.app_name,\n",
    "                            user_id=example_session.user_id, session_id=example_session.id)\n",
    "print(\"The final status of temp_service - \", temp_service)"
   ]
  }
 ],
 "metadata": {
  "kernelspec": {
   "display_name": "venv",
   "language": "python",
   "name": "python3"
  },
  "language_info": {
   "codemirror_mode": {
    "name": "ipython",
    "version": 3
   },
   "file_extension": ".py",
   "mimetype": "text/x-python",
   "name": "python",
   "nbconvert_exporter": "python",
   "pygments_lexer": "ipython3",
   "version": "3.11.8"
  }
 },
 "nbformat": 4,
 "nbformat_minor": 5
}
