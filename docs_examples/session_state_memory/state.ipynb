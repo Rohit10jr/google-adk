{
 "cells": [
  {
   "cell_type": "markdown",
   "id": "6a1369a1",
   "metadata": {},
   "source": [
    "How State is Updated: Recommended Methods"
   ]
  },
  {
   "cell_type": "markdown",
   "id": "15d12a37",
   "metadata": {},
   "source": [
    "1. The Easy Way: output_key (for Agent Text Responses)"
   ]
  },
  {
   "cell_type": "code",
   "execution_count": null,
   "id": "3421efe2",
   "metadata": {},
   "outputs": [
    {
     "name": "stdout",
     "output_type": "stream",
     "text": [
      "Initial state: {}\n",
      "greeting_agent: name='Greeter' description='' parent_agent=None sub_agents=[] before_agent_callback=None after_agent_callback=None model='gemini-2.0-flash' instruction='Generate a short, friendly greeting.' global_instruction='' tools=[] generate_content_config=None disallow_transfer_to_parent=False disallow_transfer_to_peers=False include_contents='default' input_schema=None output_schema=None output_key='last_greeting' planner=None code_executor=None examples=None before_model_callback=None after_model_callback=None before_tool_callback=None after_tool_callback=None\n",
      "session service <google.adk.sessions.in_memory_session_service.InMemorySessionService object at 0x000001E85DF1E410> and type <class 'google.adk.sessions.in_memory_session_service.InMemorySessionService'>\n",
      "session id='session1' app_name='state_app' user_id='user1' state={} events=[] last_update_time=1750232625.7010972 and type<class 'google.adk.sessions.session.Session'>\n",
      "Agent responded.\n",
      "State after agent run: {'last_greeting': 'Hello there! How can I brighten your day?\\n'}\n"
     ]
    }
   ],
   "source": [
    "from google.adk.agents import LlmAgent\n",
    "from google.adk.sessions import InMemorySessionService, Session\n",
    "from google.adk.runners import Runner\n",
    "from google.genai.types import Content, Part\n",
    "\n",
    "# Define agent with output_key\n",
    "greeting_agent = LlmAgent(\n",
    "    name=\"Greeter\",\n",
    "    model=\"gemini-2.0-flash\", # Use a valid model\n",
    "    instruction=\"Generate a short, friendly greeting.\",\n",
    "    output_key=\"last_greeting\" # Save response to state['last_greeting']\n",
    ")\n",
    "\n",
    "# --- Setup Runner and Session ---\n",
    "app_name, user_id, session_id = \"state_app\", \"user1\", \"session1\"\n",
    "session_service = InMemorySessionService()\n",
    "runner = Runner(\n",
    "    agent=greeting_agent,\n",
    "    app_name=app_name,\n",
    "    session_service=session_service\n",
    ")\n",
    "session = await session_service.create_session(app_name=app_name, \n",
    "                                    user_id=user_id, \n",
    "                                    session_id=session_id)\n",
    "print(f\"Initial state: {session.state}\")\n",
    "print(f\"greeting_agent: {greeting_agent}\")\n",
    "print(f\"session service {session_service} and type {type(session_service)}\")\n",
    "print(f\"session {session} and type{type(session)}\")\n",
    "\n",
    "# --- Run the Agent ---\n",
    "# Runner handles calling append_event, which uses the output_key\n",
    "# to automatically create the state_delta.\n",
    "user_message = Content(parts=[Part(text=\"Hello\")])\n",
    "for event in runner.run(user_id=user_id, \n",
    "                        session_id=session_id, \n",
    "                        new_message=user_message):\n",
    "    if event.is_final_response():\n",
    "      print(f\"Agent responded.\") # Response text is also in event.content\n",
    "\n",
    "# --- Check Updated State ---\n",
    "updated_session = await session_service.get_session(app_name=app_name, user_id=user_id, session_id=session_id)\n",
    "print(f\"State after agent run: {updated_session.state}\")\n",
    "# Expected output might include: {'last_greeting': 'Hello there! How can I help you today?'}"
   ]
  },
  {
   "cell_type": "markdown",
   "id": "440ed128",
   "metadata": {},
   "source": [
    "2. The Standard Way: EventActions.state_delta (for Complex Updates)"
   ]
  },
  {
   "cell_type": "code",
   "execution_count": 15,
   "id": "2fadbb9a",
   "metadata": {},
   "outputs": [
    {
     "name": "stdout",
     "output_type": "stream",
     "text": [
      "actions_with_update:  skip_summarization=None state_delta={'task_status': 'active', 'user:login_count': 1, 'user:last_login_ts': 1750230355.5376706, 'temp:validation_needed': True} artifact_delta={} transfer_to_agent=None escalate=None requested_auth_configs={}\n",
      "system_event:  content=None grounding_metadata=None partial=None turn_complete=None error_code=None error_message=None interrupted=None custom_metadata=None usage_metadata=None invocation_id='inv_login_update' author='system' actions=EventActions(skip_summarization=None, state_delta={'task_status': 'active', 'user:login_count': 1, 'user:last_login_ts': 1750230355.5376706, 'temp:validation_needed': True}, artifact_delta={}, transfer_to_agent=None, escalate=None, requested_auth_configs={}) long_running_tool_ids=None branch=None id='EkA1tOr7' timestamp=1750230355.5376706\n",
      "`append_event` called with explicit state delta.\n",
      "State after event: {'user:login_count': 1, 'task_status': 'active', 'user:last_login_ts': 1750230355.5376706}\n"
     ]
    }
   ],
   "source": [
    "from google.adk.sessions import InMemorySessionService, Session\n",
    "from google.adk.events import Event, EventActions\n",
    "from google.genai.types import Part, Content\n",
    "import time\n",
    "\n",
    "# --- Setup ---\n",
    "session_service = InMemorySessionService()\n",
    "app_name, user_id, session_id = \"state_app_manual\", \"user2\", \"session2\"\n",
    "session = await session_service.create_session(\n",
    "    app_name=app_name,\n",
    "    user_id=user_id,\n",
    "    session_id=session_id,\n",
    "    state={\"user:login_count\": 0, \"task_status\": \"idle\"}\n",
    ")\n",
    "# print(f\"session service: {session_service}\")\n",
    "# print(f\"session: {session}\")\n",
    "# print(f\"Initial session state: {session.state}\")\n",
    "\n",
    "# --- Define State Changes ---\n",
    "current_time = time.time()\n",
    "state_changes = {\n",
    "    \"task_status\": \"active\",              # Update session state\n",
    "    \"user:login_count\": session.state.get(\"user:login_count\", 0) + 1, # Update user state\n",
    "    \"user:last_login_ts\": current_time,   # Add user state\n",
    "    \"temp:validation_needed\": True        # Add temporary state (will be discarded)\n",
    "}\n",
    "\n",
    "# --- Create Event with Actions ---\n",
    "actions_with_update = EventActions(state_delta=state_changes)\n",
    "# This event might represent an internal system action, not just an agent response\n",
    "system_event = Event(\n",
    "    invocation_id=\"inv_login_update\",\n",
    "    author=\"system\", # Or 'agent', 'tool' etc.\n",
    "    actions=actions_with_update,\n",
    "    timestamp=current_time\n",
    "    # content might be None or represent the action taken\n",
    ")\n",
    "\n",
    "print(\"actions_with_update: \", actions_with_update)\n",
    "print(\"system_event: \", system_event)\n",
    "\n",
    "# --- Append the Event (This updates the state) ---\n",
    "await session_service.append_event(session, system_event)\n",
    "print(\"`append_event` called with explicit state delta.\")\n",
    "\n",
    "# --- Check Updated State ---\n",
    "updated_session = await session_service.get_session(app_name=app_name,\n",
    "                                            user_id=user_id, \n",
    "                                            session_id=session_id)\n",
    "print(f\"State after event: {updated_session.state}\")\n",
    "# Expected: {'user:login_count': 1, 'task_status': 'active', 'user:last_login_ts': <timestamp>}\n",
    "# Note: 'temp:validation_needed' is NOT present."
   ]
  },
  {
   "cell_type": "markdown",
   "id": "b5614374",
   "metadata": {},
   "source": [
    "3. Via CallbackContext or ToolContext (Recommended for Callbacks and Tools)"
   ]
  },
  {
   "cell_type": "code",
   "execution_count": null,
   "id": "510e6097",
   "metadata": {},
   "outputs": [],
   "source": [
    "# In an agent callback or tool function\n",
    "from google.adk.agents.callback_context import CallbackContext # or ToolContext\n",
    "\n",
    "def my_callback_or_tool_function(context: CallbackContext, # Or ToolContext\n",
    "                                 # ... other parameters ...\n",
    "                                ):\n",
    "    # Update existing state\n",
    "    count = context.state.get(\"user_action_count\", 0)\n",
    "    context.state[\"user_action_count\"] = count + 1\n",
    "\n",
    "    # Add new state\n",
    "    context.state[\"temp:last_operation_status\"] = \"success\"\n",
    "\n",
    "    # State changes are automatically part of the event's state_delta\n",
    "    # ... rest of callback/tool logic ..."
   ]
  }
 ],
 "metadata": {
  "kernelspec": {
   "display_name": "venv",
   "language": "python",
   "name": "python3"
  },
  "language_info": {
   "codemirror_mode": {
    "name": "ipython",
    "version": 3
   },
   "file_extension": ".py",
   "mimetype": "text/x-python",
   "name": "python",
   "nbconvert_exporter": "python",
   "pygments_lexer": "ipython3",
   "version": "3.11.8"
  }
 },
 "nbformat": 4,
 "nbformat_minor": 5
}
